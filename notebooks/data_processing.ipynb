{
 "cells": [
  {
   "cell_type": "code",
   "execution_count": 1,
   "metadata": {},
   "outputs": [],
   "source": [
    "# !pip install pytube"
   ]
  },
  {
   "cell_type": "code",
   "execution_count": 2,
   "metadata": {},
   "outputs": [],
   "source": [
    "# importing DS module\n",
    "import os\n",
    "import json\n",
    "import glob\n",
    "import joblib\n",
    "import numpy as np\n",
    "import pandas as pd\n",
    "\n",
    "# importing data processing module  \n",
    "import cv2\n",
    "from pytube import YouTube  \n",
    "\n",
    "\n",
    "from utils.VideoLoader import VideoLoader\n",
    "from utils.VideoFrameDataset import VideoFrameDataset\n",
    "\n",
    "from tqdm.notebook import tqdm"
   ]
  },
  {
   "cell_type": "code",
   "execution_count": 3,
   "metadata": {},
   "outputs": [],
   "source": [
    "# read path\n",
    "DATA_DIR = '../data'\n",
    "\n",
    "# where to save  \n",
    "RAW_VIDEO_PATH = \"../data/raw/video/train/\"\n",
    "PREPROCESS_VIDEO_PATH = \"../data/preprocessed/video/train/\""
   ]
  },
  {
   "cell_type": "code",
   "execution_count": 4,
   "metadata": {},
   "outputs": [
    {
     "data": {
      "text/html": [
       "<div>\n",
       "<style scoped>\n",
       "    .dataframe tbody tr th:only-of-type {\n",
       "        vertical-align: middle;\n",
       "    }\n",
       "\n",
       "    .dataframe tbody tr th {\n",
       "        vertical-align: top;\n",
       "    }\n",
       "\n",
       "    .dataframe thead th {\n",
       "        text-align: right;\n",
       "    }\n",
       "</style>\n",
       "<table border=\"1\" class=\"dataframe\">\n",
       "  <thead>\n",
       "    <tr style=\"text-align: right;\">\n",
       "      <th></th>\n",
       "      <th>org_text</th>\n",
       "      <th>clean_text</th>\n",
       "      <th>start_time</th>\n",
       "      <th>signer_id</th>\n",
       "      <th>signer</th>\n",
       "      <th>start</th>\n",
       "      <th>end</th>\n",
       "      <th>file</th>\n",
       "      <th>label</th>\n",
       "      <th>height</th>\n",
       "      <th>fps</th>\n",
       "      <th>end_time</th>\n",
       "      <th>url</th>\n",
       "      <th>text</th>\n",
       "      <th>box</th>\n",
       "      <th>width</th>\n",
       "      <th>review</th>\n",
       "    </tr>\n",
       "  </thead>\n",
       "  <tbody>\n",
       "    <tr>\n",
       "      <th>0</th>\n",
       "      <td>match [light-a-MATCH]</td>\n",
       "      <td>match</td>\n",
       "      <td>0.0</td>\n",
       "      <td>0</td>\n",
       "      <td>0</td>\n",
       "      <td>0</td>\n",
       "      <td>83</td>\n",
       "      <td>match light-a-MATCH</td>\n",
       "      <td>830</td>\n",
       "      <td>360.0</td>\n",
       "      <td>30.00</td>\n",
       "      <td>2.767</td>\n",
       "      <td>https://www.youtube.com/watch?v=C37R_Ix8-qs</td>\n",
       "      <td>match</td>\n",
       "      <td>[0.05754461884498596, 0.21637457609176636, 1.0...</td>\n",
       "      <td>640.0</td>\n",
       "      <td>NaN</td>\n",
       "    </tr>\n",
       "    <tr>\n",
       "      <th>1</th>\n",
       "      <td>FAIL</td>\n",
       "      <td>fail</td>\n",
       "      <td>0.0</td>\n",
       "      <td>0</td>\n",
       "      <td>-1</td>\n",
       "      <td>0</td>\n",
       "      <td>74</td>\n",
       "      <td>FAIL</td>\n",
       "      <td>542</td>\n",
       "      <td>360.0</td>\n",
       "      <td>25.00</td>\n",
       "      <td>2.960</td>\n",
       "      <td>https://www.youtube.com/watch?v=PIsUJl8BN_I</td>\n",
       "      <td>fail</td>\n",
       "      <td>[0.0657794177532196, 0.16717177629470825, 0.93...</td>\n",
       "      <td>480.0</td>\n",
       "      <td>NaN</td>\n",
       "    </tr>\n",
       "    <tr>\n",
       "      <th>2</th>\n",
       "      <td>laugh</td>\n",
       "      <td>laugh</td>\n",
       "      <td>0.0</td>\n",
       "      <td>4</td>\n",
       "      <td>26</td>\n",
       "      <td>0</td>\n",
       "      <td>31</td>\n",
       "      <td>SignSchool Laugh with Legs 2</td>\n",
       "      <td>312</td>\n",
       "      <td>360.0</td>\n",
       "      <td>29.97</td>\n",
       "      <td>1.034</td>\n",
       "      <td>www.youtube.com/watch?v=9FdHlMOnVjg</td>\n",
       "      <td>laugh</td>\n",
       "      <td>[0.13188594579696655, 0.32334136962890625, 1.0...</td>\n",
       "      <td>640.0</td>\n",
       "      <td>NaN</td>\n",
       "    </tr>\n",
       "    <tr>\n",
       "      <th>3</th>\n",
       "      <td>BOOK</td>\n",
       "      <td>book</td>\n",
       "      <td>0.0</td>\n",
       "      <td>0</td>\n",
       "      <td>-1</td>\n",
       "      <td>0</td>\n",
       "      <td>66</td>\n",
       "      <td>BOOK(3)</td>\n",
       "      <td>38</td>\n",
       "      <td>360.0</td>\n",
       "      <td>25.00</td>\n",
       "      <td>2.640</td>\n",
       "      <td>https://www.youtube.com/watch?v=J7tP98oDxqE</td>\n",
       "      <td>book</td>\n",
       "      <td>[0.05569887161254883, 0.25173279643058777, 0.9...</td>\n",
       "      <td>480.0</td>\n",
       "      <td>NaN</td>\n",
       "    </tr>\n",
       "    <tr>\n",
       "      <th>4</th>\n",
       "      <td>sign-language</td>\n",
       "      <td>sign language</td>\n",
       "      <td>0.0</td>\n",
       "      <td>0</td>\n",
       "      <td>-1</td>\n",
       "      <td>0</td>\n",
       "      <td>75</td>\n",
       "      <td>SIGN-LANGUAGE-S-CLAW-F</td>\n",
       "      <td>848</td>\n",
       "      <td>360.0</td>\n",
       "      <td>29.97</td>\n",
       "      <td>2.502</td>\n",
       "      <td>www.youtube.com/watch?v=N2mG9ZKjrGA</td>\n",
       "      <td>sign language</td>\n",
       "      <td>[0.03904399275779724, 0.24198183417320251, 1.0...</td>\n",
       "      <td>640.0</td>\n",
       "      <td>NaN</td>\n",
       "    </tr>\n",
       "  </tbody>\n",
       "</table>\n",
       "</div>"
      ],
      "text/plain": [
       "                org_text     clean_text  start_time  signer_id  signer  start  \\\n",
       "0  match [light-a-MATCH]          match         0.0          0       0      0   \n",
       "1                   FAIL           fail         0.0          0      -1      0   \n",
       "2                  laugh          laugh         0.0          4      26      0   \n",
       "3                   BOOK           book         0.0          0      -1      0   \n",
       "4          sign-language  sign language         0.0          0      -1      0   \n",
       "\n",
       "   end                          file  label  height    fps  end_time  \\\n",
       "0   83           match light-a-MATCH    830   360.0  30.00     2.767   \n",
       "1   74                          FAIL    542   360.0  25.00     2.960   \n",
       "2   31  SignSchool Laugh with Legs 2    312   360.0  29.97     1.034   \n",
       "3   66                       BOOK(3)     38   360.0  25.00     2.640   \n",
       "4   75        SIGN-LANGUAGE-S-CLAW-F    848   360.0  29.97     2.502   \n",
       "\n",
       "                                           url           text  \\\n",
       "0  https://www.youtube.com/watch?v=C37R_Ix8-qs          match   \n",
       "1  https://www.youtube.com/watch?v=PIsUJl8BN_I           fail   \n",
       "2          www.youtube.com/watch?v=9FdHlMOnVjg          laugh   \n",
       "3  https://www.youtube.com/watch?v=J7tP98oDxqE           book   \n",
       "4          www.youtube.com/watch?v=N2mG9ZKjrGA  sign language   \n",
       "\n",
       "                                                 box  width  review  \n",
       "0  [0.05754461884498596, 0.21637457609176636, 1.0...  640.0     NaN  \n",
       "1  [0.0657794177532196, 0.16717177629470825, 0.93...  480.0     NaN  \n",
       "2  [0.13188594579696655, 0.32334136962890625, 1.0...  640.0     NaN  \n",
       "3  [0.05569887161254883, 0.25173279643058777, 0.9...  480.0     NaN  \n",
       "4  [0.03904399275779724, 0.24198183417320251, 1.0...  640.0     NaN  "
      ]
     },
     "execution_count": 4,
     "metadata": {},
     "output_type": "execute_result"
    }
   ],
   "source": [
    "# read the json file\n",
    "with open(DATA_DIR + '/metadata/MS-ASL/MSASL_train.json') as f:\n",
    "  train_data = json.load(f)\n",
    "\n",
    "# turn json to np array\n",
    "train_data = pd.DataFrame(train_data)\n",
    "train_data.head()"
   ]
  },
  {
   "cell_type": "code",
   "execution_count": 5,
   "metadata": {},
   "outputs": [
    {
     "data": {
      "text/plain": [
       "[0.05754461884498596, 0.21637457609176636, 1.0, 0.7300844192504883]"
      ]
     },
     "execution_count": 5,
     "metadata": {},
     "output_type": "execute_result"
    }
   ],
   "source": [
    "train_data['box'].iloc[0]"
   ]
  },
  {
   "cell_type": "code",
   "execution_count": 5,
   "metadata": {},
   "outputs": [],
   "source": [
    "train_data.to_csv(DATA_DIR + '/metadata/MS-ASL/MSASL_train_metadata.csv', index=False)"
   ]
  },
  {
   "cell_type": "markdown",
   "metadata": {},
   "source": [
    "# Preprocess MetaData\n",
    "1. Remove Invalid Data\n",
    "2. Rename Video ID "
   ]
  },
  {
   "cell_type": "code",
   "execution_count": 15,
   "metadata": {},
   "outputs": [
    {
     "data": {
      "application/vnd.jupyter.widget-view+json": {
       "model_id": "8d0d418d115746799577edcaf6dc03ff",
       "version_major": 2,
       "version_minor": 0
      },
      "text/plain": [
       "0it [00:00, ?it/s]"
      ]
     },
     "metadata": {},
     "output_type": "display_data"
    },
    {
     "data": {
      "text/plain": [
       "(          name start  end     clean_text\n",
       " 0  C37R_Ix8-qs     0   83          match\n",
       " 1  PIsUJl8BN_I     0   74           fail\n",
       " 2  J7tP98oDxqE     0   66           book\n",
       " 3  N2mG9ZKjrGA     0   75  sign language\n",
       " 4  SVWABYmFdhs     0  116         easter,\n",
       " 12460)"
      ]
     },
     "execution_count": 15,
     "metadata": {},
     "output_type": "execute_result"
    }
   ],
   "source": [
    "# if the video exits append it to a datafranme\n",
    "# create a dataframe to store the video metadata\n",
    "valid_metadata = pd.DataFrame(columns=['name', 'start', 'end', 'clean_text'])\n",
    "for i, row in tqdm(train_data.iterrows()):\n",
    "    row['name'] = row['url'].split('=')[1]\n",
    "    video_path = f'{RAW_VIDEO_PATH}/{row[\"name\"]}.mp4'\n",
    "    if os.path.exists(video_path):\n",
    "        # print(pd.DataFrame(row[['SENTENCE_NAME', 'START_REALIGNED', 'END_REALIGNED', 'SENTENCE']]).T)\n",
    "        valid_metadata = pd.concat([valid_metadata, pd.DataFrame(row[['name', 'start', 'end', 'clean_text']]).T], ignore_index=True, axis=0)\n",
    "valid_metadata.to_csv(f'{DATA_DIR}/metadata/MS-ASL/valid_MSASL_train_metadata.csv', index=False)\n",
    "valid_metadata.head(), len(valid_metadata)"
   ]
  },
  {
   "cell_type": "markdown",
   "metadata": {},
   "source": [
    "# Convert Video to Numpy\n",
    "Download the video and convert cette video to numpy array with video id, video array, and clean text label"
   ]
  },
  {
   "cell_type": "code",
   "execution_count": 6,
   "metadata": {},
   "outputs": [],
   "source": [
    "# for i, row in tqdm(train_data.iterrows()):\n",
    "#     # wait 20 seconds\n",
    "#     # time.sleep(20)\n",
    "\n",
    "#     # link of the video to be downloaded  \n",
    "#     link = row['url']\n",
    "#     id = link.split('=')[1]\n",
    "\n",
    "#     # Try downloading the video\n",
    "#     try:  \n",
    "#         # object creation using YouTube \n",
    "#         # which was imported in the beginning  \n",
    "#         yt = YouTube(link)  \n",
    "#         # downloading the video  \n",
    "#         yt.streams.filter(progressive=True, file_extension='mp4').order_by('resolution')[-1].download(RAW_VIDEO_PATH, filename=id+\".mp4\") \n",
    "\n",
    "#     except Exception as e:  \n",
    "#         print(f\"Error: {e}\")  \n",
    "\n",
    "\n"
   ]
  },
  {
   "cell_type": "markdown",
   "metadata": {},
   "source": [
    "# Experimental Code"
   ]
  },
  {
   "cell_type": "code",
   "execution_count": 7,
   "metadata": {},
   "outputs": [],
   "source": [
    "# # Load videos using VideoFrameDataset\n",
    "# train_data['name'] = train_data['url'].apply(lambda x: x.split('=')[1])\n",
    "# metadata = train_data[['name', 'start', 'end', 'clean_text']].values\n",
    "\n",
    "\n",
    "# # Load videos using VideoFrameDataset\n",
    "# video_dataset = VideoFrameDataset(\n",
    "#     root_path=RAW_VIDEO_PATH,\n",
    "#     metadata=metadata,\n",
    "#     num_segments=5,\n",
    "#     frames_per_segment=1,\n",
    "#     transform=None,\n",
    "#     test_mode=False\n",
    "# )\n",
    "\n",
    "# for i, sample in enumerate(video_dataset):\n",
    "#     print(i, sample[0].shape, sample[1])\n",
    "#     if i == 10: break"
   ]
  },
  {
   "cell_type": "code",
   "execution_count": 16,
   "metadata": {},
   "outputs": [
    {
     "name": "stdout",
     "output_type": "stream",
     "text": [
      "0 torch.Size([85, 3, 720, 1280]) match\n",
      "1 torch.Size([76, 3, 360, 480]) fail\n",
      "2 torch.Size([68, 3, 360, 480]) book\n",
      "3 torch.Size([77, 3, 720, 1280]) sign language\n",
      "4 torch.Size([118, 3, 720, 1280]) easter\n",
      "5 torch.Size([72, 3, 720, 1280]) boring\n",
      "6 torch.Size([205, 3, 720, 1280]) phone\n",
      "7 torch.Size([205, 3, 720, 1280]) phone\n",
      "8 torch.Size([205, 3, 720, 1280]) phone\n",
      "9 torch.Size([75, 3, 360, 480]) library\n",
      "10 torch.Size([115, 3, 720, 1280]) cochlear implant\n"
     ]
    }
   ],
   "source": [
    "# Load videos using VideoFrameDataset\n",
    "# train_data['name'] = train_data['url'].apply(lambda x: x.split('=')[1])\n",
    "metadata = valid_metadata[['name', 'start', 'end', 'clean_text']].values\n",
    "\n",
    "video_dataset = VideoLoader(root_path = RAW_VIDEO_PATH,\n",
    "                            metadata = metadata)\n",
    "\n",
    "for i, sample in enumerate(video_dataset):\n",
    "    print(i, sample['video'].shape, sample['label'])\n",
    "    if i == 10: break"
   ]
  },
  {
   "cell_type": "code",
   "execution_count": 8,
   "metadata": {},
   "outputs": [],
   "source": [
    "# video_arrays = []\n",
    "\n",
    "# for i, row in tqdm(train_data.iterrows()):\n",
    "#     # wait 20 seconds\n",
    "#     # time.sleep(20)\n",
    "\n",
    "#     # link of the video to be downloaded  \n",
    "#     link = row['url']\n",
    "#     id = link.split('=')[1]\n",
    "#     label = row['clean_text']\n",
    "\n",
    "\n",
    "#     # Initialize a VideoCapture object to read from the video file\n",
    "#     video_path = RAW_VIDEO_PATH+f'/{id}.mp4'\n",
    "#     cap = cv2.VideoCapture(video_path)\n",
    "\n",
    "\n",
    "#     # Check if the video was opened successfully\n",
    "#     if not cap.isOpened():\n",
    "#         print(\"Error: Could not open video.\")\n",
    "#         continue\n",
    "\n",
    "\n",
    "#     # Read the frames from the video\n",
    "#     frames = []\n",
    "#     while True:\n",
    "#         ret, frame = cap.read()\n",
    "#         if not ret:\n",
    "#             break  # Break the loop if there are no frames left to read\n",
    "\n",
    "#         # Append the frame to the list of frames\n",
    "#         frames.append(frame)\n",
    "\n",
    "#     # Convert the list of frames to a NumPy array\n",
    "#     video_array = np.array(frames)\n",
    "\n",
    "#     # Release the VideoCapture object\n",
    "#     cap.release()\n",
    "\n",
    "#     # append the video array to the list of video arrays\n",
    "#     data = (id, video_array, label)\n",
    "#     video_arrays.append(data)\n",
    "\n",
    "\n",
    "# # save data as pickle file\n",
    "# joblib.dump(video_arrays, f'{PREPROCESS_VIDEO_PATH}/train.pkl')"
   ]
  },
  {
   "cell_type": "code",
   "execution_count": null,
   "metadata": {},
   "outputs": [],
   "source": []
  }
 ],
 "metadata": {
  "kernelspec": {
   "display_name": "torch_env",
   "language": "python",
   "name": "python3"
  },
  "language_info": {
   "codemirror_mode": {
    "name": "ipython",
    "version": 3
   },
   "file_extension": ".py",
   "mimetype": "text/x-python",
   "name": "python",
   "nbconvert_exporter": "python",
   "pygments_lexer": "ipython3",
   "version": "3.10.13"
  }
 },
 "nbformat": 4,
 "nbformat_minor": 2
}
