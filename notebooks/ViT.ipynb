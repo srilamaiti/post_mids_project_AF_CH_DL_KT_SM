{
 "cells": [
  {
   "cell_type": "markdown",
   "metadata": {},
   "source": [
    "# ViT Experimentation"
   ]
  },
  {
   "cell_type": "code",
   "execution_count": 1,
   "metadata": {},
   "outputs": [],
   "source": [
    "# precocessing\n",
    "import numpy as np\n",
    "import matplotlib.pyplot as plt\n",
    "import seaborn as sns \n",
    "\n",
    "from datetime import datetime\n",
    "\n",
    "sns.set()\n",
    "\n",
    "\n",
    "# transformers\n",
    "import torch\n",
    "import torchvision\n",
    "import torchvision.transforms as transforms\n",
    "from torch.utils.tensorboard import SummaryWriter\n",
    "\n",
    "from models.transformers.ViT import ViT\n",
    "\n",
    "# optimze GPU training transformer\n",
    "from transformers import AutoModelForSequenceClassification, TrainingArguments, Trainer, logging\n",
    "\n",
    "from tqdm.notebook import tqdm\n",
    "\n",
    "\n",
    "# clear stuff for new training\n",
    "torch.cuda.empty_cache()"
   ]
  },
  {
   "cell_type": "code",
   "execution_count": 2,
   "metadata": {},
   "outputs": [
    {
     "name": "stdout",
     "output_type": "stream",
     "text": [
      "cuda\n"
     ]
    }
   ],
   "source": [
    "device = torch.device('cuda' if torch.cuda.is_available() else 'cpu')\n",
    "print(device)"
   ]
  },
  {
   "cell_type": "code",
   "execution_count": 3,
   "metadata": {},
   "outputs": [
    {
     "name": "stdout",
     "output_type": "stream",
     "text": [
      "2\n"
     ]
    }
   ],
   "source": [
    "# check GPUs\n",
    "print(torch.cuda.device_count()) "
   ]
  },
  {
   "cell_type": "markdown",
   "metadata": {},
   "source": [
    "# Load & Preprocess Dataset"
   ]
  },
  {
   "cell_type": "code",
   "execution_count": 4,
   "metadata": {},
   "outputs": [
    {
     "name": "stdout",
     "output_type": "stream",
     "text": [
      "Training set has 60000 instances\n",
      "Validation set has 10000 instances\n"
     ]
    }
   ],
   "source": [
    "transform = transforms.Compose(\n",
    "    [transforms.ToTensor(),\n",
    "    transforms.Normalize((0.5,), (0.5,))])\n",
    "\n",
    "\n",
    "# Create datasets for training & validation, download if necessary\n",
    "training_set = torchvision.datasets.FashionMNIST('./data', train=True, transform=transform, download=True)\n",
    "validation_set = torchvision.datasets.FashionMNIST('./data', train=False, transform=transform, download=True)\n",
    "\n",
    "\n",
    "# Create data loaders for our datasets; shuffle for training, not for validation\n",
    "training_loader = torch.utils.data.DataLoader(training_set, batch_size=4, shuffle=True)\n",
    "validation_loader = torch.utils.data.DataLoader(validation_set, batch_size=4, shuffle=False)\n",
    "\n",
    "# Class labels\n",
    "classes = ('T-shirt/top', 'Trouser', 'Pullover', 'Dress', 'Coat',\n",
    "        'Sandal', 'Shirt', 'Sneaker', 'Bag', 'Ankle Boot')\n",
    "\n",
    "# Report split sizes\n",
    "print('Training set has {} instances'.format(len(training_set)))\n",
    "print('Validation set has {} instances'.format(len(validation_set)))"
   ]
  },
  {
   "cell_type": "code",
   "execution_count": 5,
   "metadata": {},
   "outputs": [
    {
     "name": "stdout",
     "output_type": "stream",
     "text": [
      "Ankle Boot  Shirt  Ankle Boot  Ankle Boot\n"
     ]
    },
    {
     "data": {
      "image/png": "[encoded data removed]",
      "text/plain": [
       "<Figure size 640x480 with 1 Axes>"
      ]
     },
     "metadata": {},
     "output_type": "display_data"
    }
   ],
   "source": [
    "# Helper function for inline image display\n",
    "def matplotlib_imshow(img, one_channel=False):\n",
    "    if one_channel:\n",
    "        img = img.mean(dim=0)\n",
    "    img = img / 2 + 0.5     # unnormalize\n",
    "    npimg = img.numpy()\n",
    "    if one_channel:\n",
    "        plt.imshow(npimg, cmap=\"Greys\")\n",
    "    else:\n",
    "        plt.imshow(np.transpose(npimg, (1, 2, 0)))\n",
    "\n",
    "dataiter = iter(training_loader)\n",
    "images, labels = next(dataiter)\n",
    "\n",
    "# Create a grid from the images and show them\n",
    "img_grid = torchvision.utils.make_grid(images)\n",
    "matplotlib_imshow(img_grid, one_channel=True)\n",
    "print('  '.join(classes[labels[j]] for j in range(4)))"
   ]
  },
  {
   "cell_type": "markdown",
   "metadata": {},
   "source": [
    "# Model Training"
   ]
  },
  {
   "cell_type": "code",
   "execution_count": 6,
   "metadata": {},
   "outputs": [
    {
     "data": {
      "text/plain": [
       "tensor([[-0.0030, -0.3811, -1.0926,  0.0769,  0.5247, -0.2662, -1.8630,  0.4101,\n",
       "         -1.1114, -0.1817],\n",
       "        [ 0.1085, -0.1069, -1.2942, -0.2905,  0.8000, -0.3000, -1.6950,  0.5190,\n",
       "         -1.1617, -0.0115],\n",
       "        [-0.0755, -0.3450, -0.9888,  0.0296,  0.6679, -0.4211, -1.9156,  0.4732,\n",
       "         -1.0959, -0.1724],\n",
       "        [-0.1225, -0.3884, -1.0032,  0.0909,  0.7231, -0.4554, -1.8916,  0.5177,\n",
       "         -1.0584, -0.1348]], grad_fn=<AddmmBackward0>)"
      ]
     },
     "execution_count": 6,
     "metadata": {},
     "output_type": "execute_result"
    }
   ],
   "source": [
    "model = ViT(\n",
    "    img_dim = 28,\n",
    "    in_channels = 1,\n",
    "    patch_dim = 7,\n",
    "    num_classes = 10,\n",
    "    dim = 128,\n",
    "    blocks = 6,\n",
    "    heads = 4\n",
    ")\n",
    "\n",
    "preds = model(images)\n",
    "preds"
   ]
  },
  {
   "cell_type": "code",
   "execution_count": 7,
   "metadata": {},
   "outputs": [],
   "source": [
    "# default_args = {\n",
    "#     \"output_dir\": \"tmp\",\n",
    "#     \"evaluation_strategy\": \"steps\",\n",
    "#     \"num_train_epochs\": 1,\n",
    "#     \"log_level\": \"error\",\n",
    "#     \"report_to\": \"none\",\n",
    "# }\n",
    "\n",
    "# training_args = TrainingArguments(\n",
    "#     per_device_train_batch_size=2,\n",
    "#     gradient_accumulation_steps=4,\n",
    "#     # gradient_checkpointing=True,\n",
    "#     # gradient_checkpointing_kwargs={'use_reentrant': False}, # OR gradient_checkpointing_kwargs={'use_reentrant': True} \n",
    "#     fp16=True,\n",
    "#     optim=\"adafactor\",\n",
    "#     **default_args,\n",
    "# )\n",
    "\n",
    "# trainer = Trainer(model=model, args=training_args, train_dataset=training_loader)\n",
    "# result = trainer.train()"
   ]
  },
  {
   "cell_type": "code",
   "execution_count": 8,
   "metadata": {},
   "outputs": [],
   "source": [
    "# declare loss function and optimizer\n",
    "loss_fn = torch.nn.CrossEntropyLoss()\n",
    "optimizer = torch.optim.Adam(model.parameters(), lr=1e-3, weight_decay=1e-6)\n",
    "\n",
    "\n",
    "def train_one_epoch(epoch_index, tb_writer):\n",
    "    \"\"\"\n",
    "        Method to train the model for one epoch\n",
    "    \"\"\"\n",
    "    running_loss = 0.\n",
    "    last_loss = 0.\n",
    "\n",
    "    # Here, we use enumerate(training_loader) instead of\n",
    "    # iter(training_loader) so that we can track the batch\n",
    "    # index and do some intra-epoch reporting\n",
    "    \n",
    "    for i, data in tqdm(enumerate(training_loader)):\n",
    "        # Every data instance is an input + label pair\n",
    "        inputs, labels = data\n",
    "\n",
    "        # Zero your gradients for every batch!\n",
    "        optimizer.zero_grad()\n",
    "\n",
    "        # Make predictions for this batch\n",
    "        outputs = model(inputs)\n",
    "\n",
    "        # Compute the loss and its gradients\n",
    "        loss = loss_fn(outputs, labels)\n",
    "        loss.backward()\n",
    "\n",
    "        # Adjust learning weights\n",
    "        optimizer.step()\n",
    "\n",
    "        # Gather data and report\n",
    "        running_loss += loss.item()\n",
    "        if i % 1000 == 999:\n",
    "            last_loss = running_loss / 1000 # loss per batch\n",
    "            print('  batch {} loss: {}'.format(i + 1, last_loss))\n",
    "            tb_x = epoch_index * len(training_loader) + i + 1\n",
    "            tb_writer.add_scalar('Loss/train', last_loss, tb_x)\n",
    "            running_loss = 0.\n",
    "\n",
    "    return last_loss"
   ]
  },
  {
   "cell_type": "code",
   "execution_count": 9,
   "metadata": {},
   "outputs": [
    {
     "name": "stdout",
     "output_type": "stream",
     "text": [
      "EPOCH 1:\n"
     ]
    },
    {
     "data": {
      "application/vnd.jupyter.widget-view+json": {
       "model_id": "65a2705e798b49aaa44fba27c88dfdfc",
       "version_major": 2,
       "version_minor": 0
      },
      "text/plain": [
       "0it [00:00, ?it/s]"
      ]
     },
     "metadata": {},
     "output_type": "display_data"
    },
    {
     "name": "stdout",
     "output_type": "stream",
     "text": [
      "  batch 1000 loss: 2.3250283232927322\n",
      "  batch 2000 loss: 2.321318273663521\n",
      "  batch 3000 loss: 2.3124047107696533\n",
      "  batch 4000 loss: 2.3093707637786864\n",
      "  batch 5000 loss: 2.3085897817611696\n",
      "  batch 6000 loss: 2.3070538418293\n",
      "  batch 7000 loss: 2.3061009356975557\n",
      "  batch 8000 loss: 2.3056457369327545\n",
      "  batch 9000 loss: 2.305497813940048\n",
      "  batch 10000 loss: 2.3054392971992494\n",
      "  batch 11000 loss: 2.310030135154724\n",
      "  batch 12000 loss: 2.3064198808670042\n",
      "  batch 13000 loss: 2.304207376718521\n",
      "  batch 14000 loss: 2.305035269498825\n",
      "  batch 15000 loss: 2.305972631692886\n",
      "LOSS train 2.305972631692886 valid 2.3034262657165527\n",
      "EPOCH 2:\n"
     ]
    },
    {
     "data": {
      "application/vnd.jupyter.widget-view+json": {
       "model_id": "b738ff1091d0497fb8d6cd1ada91b145",
       "version_major": 2,
       "version_minor": 0
      },
      "text/plain": [
       "0it [00:00, ?it/s]"
      ]
     },
     "metadata": {},
     "output_type": "display_data"
    },
    {
     "name": "stdout",
     "output_type": "stream",
     "text": [
      "  batch 1000 loss: 2.3038654549121858\n",
      "  batch 2000 loss: 2.3041590135097505\n",
      "  batch 3000 loss: 2.303297586917877\n",
      "  batch 4000 loss: 2.304153476238251\n",
      "  batch 5000 loss: 2.304084992647171\n",
      "  batch 6000 loss: 2.3038296620845795\n",
      "  batch 7000 loss: 2.304036317586899\n",
      "  batch 8000 loss: 2.30367129445076\n",
      "  batch 9000 loss: 2.305382108926773\n",
      "  batch 10000 loss: 2.3014161772727966\n",
      "  batch 11000 loss: 2.304193704366684\n",
      "  batch 12000 loss: 2.3037464895248414\n",
      "  batch 13000 loss: 2.3033749599456788\n",
      "  batch 14000 loss: 2.303805455207825\n",
      "  batch 15000 loss: 2.302869325399399\n",
      "LOSS train 2.302869325399399 valid 2.303093671798706\n",
      "EPOCH 3:\n"
     ]
    },
    {
     "data": {
      "application/vnd.jupyter.widget-view+json": {
       "model_id": "34f66a86e6d14868962b5157ef1ff997",
       "version_major": 2,
       "version_minor": 0
      },
      "text/plain": [
       "0it [00:00, ?it/s]"
      ]
     },
     "metadata": {},
     "output_type": "display_data"
    },
    {
     "name": "stdout",
     "output_type": "stream",
     "text": [
      "  batch 1000 loss: 2.3042801246643068\n",
      "  batch 2000 loss: 2.303983803987503\n",
      "  batch 3000 loss: 2.3039100987911225\n",
      "  batch 4000 loss: 2.303520444393158\n",
      "  batch 5000 loss: 2.3052617905139923\n",
      "  batch 6000 loss: 2.3032281138896944\n",
      "  batch 7000 loss: 2.3039685316085814\n",
      "  batch 8000 loss: 2.304000138044357\n",
      "  batch 9000 loss: 2.30405544090271\n",
      "  batch 10000 loss: 2.301700190067291\n",
      "  batch 11000 loss: 2.305323485374451\n",
      "  batch 12000 loss: 2.269412987709045\n",
      "  batch 13000 loss: 2.0960812802314757\n",
      "  batch 14000 loss: 2.288062599778175\n",
      "  batch 15000 loss: 2.22252143740654\n",
      "LOSS train 2.22252143740654 valid 2.138338804244995\n",
      "EPOCH 4:\n"
     ]
    },
    {
     "data": {
      "application/vnd.jupyter.widget-view+json": {
       "model_id": "4793ecb1ddf842bda555b23837603129",
       "version_major": 2,
       "version_minor": 0
      },
      "text/plain": [
       "0it [00:00, ?it/s]"
      ]
     },
     "metadata": {},
     "output_type": "display_data"
    },
    {
     "name": "stdout",
     "output_type": "stream",
     "text": [
      "  batch 1000 loss: 2.1333376874923706\n",
      "  batch 2000 loss: 2.168718023657799\n",
      "  batch 3000 loss: 2.3066401460170747\n",
      "  batch 4000 loss: 2.2645553328990937\n",
      "  batch 5000 loss: 2.1945915108919145\n",
      "  batch 6000 loss: 2.2044270955324174\n",
      "  batch 7000 loss: 2.2296674674749375\n",
      "  batch 8000 loss: 2.2271815320253374\n",
      "  batch 9000 loss: 2.216576427459717\n",
      "  batch 10000 loss: 2.2102787631750105\n",
      "  batch 11000 loss: 2.216744926214218\n",
      "  batch 12000 loss: 2.135100646495819\n",
      "  batch 13000 loss: 2.1109414993524553\n",
      "  batch 14000 loss: 2.118752495884895\n",
      "  batch 15000 loss: 2.1143407677412034\n",
      "LOSS train 2.1143407677412034 valid 2.1189098358154297\n",
      "EPOCH 5:\n"
     ]
    },
    {
     "data": {
      "application/vnd.jupyter.widget-view+json": {
       "model_id": "a3bfb3f6443c4d149e7aaa6007201ef8",
       "version_major": 2,
       "version_minor": 0
      },
      "text/plain": [
       "0it [00:00, ?it/s]"
      ]
     },
     "metadata": {},
     "output_type": "display_data"
    },
    {
     "name": "stdout",
     "output_type": "stream",
     "text": [
      "  batch 1000 loss: 2.122529414772987\n",
      "  batch 2000 loss: 2.1234034526348116\n",
      "  batch 3000 loss: 2.2918696714639664\n",
      "  batch 4000 loss: 2.21900528049469\n",
      "  batch 5000 loss: 2.1122775714397433\n",
      "  batch 6000 loss: 2.100353215098381\n",
      "  batch 7000 loss: 2.102204479455948\n",
      "  batch 8000 loss: 2.0831536659002303\n",
      "  batch 9000 loss: 2.1147386119365694\n",
      "  batch 10000 loss: 2.091181355714798\n",
      "  batch 11000 loss: 2.1593007415533068\n",
      "  batch 12000 loss: 2.159592225790024\n",
      "  batch 13000 loss: 2.1584338837862016\n",
      "  batch 14000 loss: 2.1343843717575073\n",
      "  batch 15000 loss: 2.229375657439232\n",
      "LOSS train 2.229375657439232 valid 2.325929880142212\n"
     ]
    }
   ],
   "source": [
    "# Initializing in a separate cell so we can easily add more epochs to the same run\n",
    "timestamp = datetime.now().strftime('%Y%m%d_%H%M%S')\n",
    "writer = SummaryWriter('runs/fashion_trainer_{}'.format(timestamp))\n",
    "epoch_number = 0\n",
    "\n",
    "EPOCHS = 5\n",
    "best_vloss = 1_000_000.\n",
    "\n",
    "for epoch in range(EPOCHS):\n",
    "    print('EPOCH {}:'.format(epoch_number + 1))\n",
    "\n",
    "    # Make sure gradient tracking is on, and do a pass over the data\n",
    "    model.train(True)\n",
    "    avg_loss = train_one_epoch(epoch_number, writer)\n",
    "\n",
    "\n",
    "    running_vloss = 0.0\n",
    "    # Set the model to evaluation mode, disabling dropout and using population\n",
    "    # statistics for batch normalization.\n",
    "    model.eval()\n",
    "\n",
    "    # Disable gradient computation and reduce memory consumption.\n",
    "    with torch.no_grad():\n",
    "        for i, vdata in enumerate(validation_loader):\n",
    "            vinputs, vlabels = vdata\n",
    "            voutputs = model(vinputs)\n",
    "            vloss = loss_fn(voutputs, vlabels)\n",
    "            running_vloss += vloss\n",
    "\n",
    "    avg_vloss = running_vloss / (i + 1)\n",
    "    print('LOSS train {} valid {}'.format(avg_loss, avg_vloss))\n",
    "\n",
    "    # Log the running loss averaged per batch\n",
    "    # for both training and validation\n",
    "    writer.add_scalars('Training vs. Validation Loss',\n",
    "                    { 'Training' : avg_loss, 'Validation' : avg_vloss },\n",
    "                    epoch_number + 1)\n",
    "    writer.flush()\n",
    "\n",
    "    # Track best performance, and save the model's state\n",
    "    if avg_vloss < best_vloss:\n",
    "        best_vloss = avg_vloss\n",
    "        model_path = 'model_{}_{}'.format(timestamp, epoch_number)\n",
    "        torch.save(model.state_dict(), model_path)\n",
    "\n",
    "    epoch_number += 1"
   ]
  },
  {
   "cell_type": "code",
   "execution_count": 13,
   "metadata": {},
   "outputs": [],
   "source": [
    "# save the moedl\n",
    "PATH = './models/outputs/vitnet.pth'"
   ]
  },
  {
   "cell_type": "code",
   "execution_count": 11,
   "metadata": {},
   "outputs": [],
   "source": [
    "torch.save(model.state_dict(), PATH)"
   ]
  },
  {
   "cell_type": "markdown",
   "metadata": {},
   "source": [
    "# Validation Against Ground Truthe"
   ]
  },
  {
   "cell_type": "code",
   "execution_count": 12,
   "metadata": {},
   "outputs": [
    {
     "data": {
      "image/png": "[encoded data removed]",
      "text/plain": [
       "<Figure size 640x480 with 1 Axes>"
      ]
     },
     "metadata": {},
     "output_type": "display_data"
    },
    {
     "name": "stdout",
     "output_type": "stream",
     "text": [
      "GroundTruth:  Ankle Boot Pullover Trouser Trouser\n"
     ]
    }
   ],
   "source": [
    "def imshow(img):\n",
    "    img = img / 2 + 0.5     # unnormalize\n",
    "    npimg = img.numpy()\n",
    "    plt.imshow(np.transpose(npimg, (1, 2, 0)))\n",
    "    plt.show()\n",
    "\n",
    "\n",
    "dataiter = iter(validation_loader)\n",
    "images, labels = next(dataiter)\n",
    "\n",
    "# print images\n",
    "imshow(torchvision.utils.make_grid(images))\n",
    "print('GroundTruth: ', ' '.join(f'{classes[labels[j]]:5s}' for j in range(4)))\n"
   ]
  },
  {
   "cell_type": "code",
   "execution_count": 15,
   "metadata": {},
   "outputs": [
    {
     "data": {
      "text/plain": [
       "<All keys matched successfully>"
      ]
     },
     "execution_count": 15,
     "metadata": {},
     "output_type": "execute_result"
    }
   ],
   "source": [
    "net = ViT(\n",
    "    img_dim = 28,\n",
    "    in_channels = 1,\n",
    "    patch_dim = 7,\n",
    "    num_classes = 10,\n",
    "    dim = 128,\n",
    "    blocks = 6,\n",
    "    heads = 4\n",
    ")\n",
    "\n",
    "net.load_state_dict(torch.load(PATH))"
   ]
  },
  {
   "cell_type": "code",
   "execution_count": 16,
   "metadata": {},
   "outputs": [
    {
     "name": "stdout",
     "output_type": "stream",
     "text": [
      "Predicted:  Bag   Bag   Bag   Bag  \n"
     ]
    }
   ],
   "source": [
    "outputs = net(images)\n",
    "_, predicted = torch.max(outputs, 1)\n",
    "\n",
    "print('Predicted: ', ' '.join(f'{classes[predicted[j]]:5s}'\n",
    "                              for j in range(4)))"
   ]
  },
  {
   "cell_type": "code",
   "execution_count": null,
   "metadata": {},
   "outputs": [],
   "source": []
  }
 ],
 "metadata": {
  "kernelspec": {
   "display_name": "torch_env",
   "language": "python",
   "name": "python3"
  },
  "language_info": {
   "codemirror_mode": {
    "name": "ipython",
    "version": 3
   },
   "file_extension": ".py",
   "mimetype": "text/x-python",
   "name": "python",
   "nbconvert_exporter": "python",
   "pygments_lexer": "ipython3",
   "version": "3.10.13"
  }
 },
 "nbformat": 4,
 "nbformat_minor": 2
}
